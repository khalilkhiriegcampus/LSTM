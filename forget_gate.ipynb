{
 "cells": [
  {
   "cell_type": "code",
   "execution_count": 1,
   "id": "59ad75e4",
   "metadata": {},
   "outputs": [
    {
     "name": "stdout",
     "output_type": "stream",
     "text": [
      "Forget gate: [0 0 0] × c_prev: [2 4 3] => c_t: [0 0 0]\n",
      "Forget gate: [1 1 1] × c_prev: [2 4 3] => c_t: [2 4 3]\n",
      "Forget gate: [0 1 0] × c_prev: [2 4 3] => c_t: [0 4 0]\n"
     ]
    }
   ],
   "source": [
    "import numpy as np\n",
    "\n",
    "c_prev = np.array([2, 4, 3])\n",
    "\n",
    "forget_gates = [\n",
    "    np.array([0, 0, 0]),\n",
    "    np.array([1, 1, 1]),\n",
    "    np.array([0, 1, 0])\n",
    "]\n",
    "\n",
    "for f_t in forget_gates:\n",
    "    c_t = f_t * c_prev\n",
    "    print(f\"Forget gate: {f_t} × c_prev: {c_prev} => c_t: {c_t}\")"
   ]
  }
 ],
 "metadata": {
  "kernelspec": {
   "display_name": "Python 3",
   "language": "python",
   "name": "python3"
  },
  "language_info": {
   "codemirror_mode": {
    "name": "ipython",
    "version": 3
   },
   "file_extension": ".py",
   "mimetype": "text/x-python",
   "name": "python",
   "nbconvert_exporter": "python",
   "pygments_lexer": "ipython3",
   "version": "3.11.0"
  }
 },
 "nbformat": 4,
 "nbformat_minor": 5
}
