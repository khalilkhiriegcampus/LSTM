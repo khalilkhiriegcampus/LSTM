{
 "cells": [
  {
   "cell_type": "code",
   "execution_count": 9,
   "id": "7cbdc874",
   "metadata": {},
   "outputs": [],
   "source": [
    "import numpy as np\n",
    "\n",
    "def sigmoid(x):\n",
    "    return 1 / (1 + np.exp(-x))\n",
    "\n",
    "def tanh(x):\n",
    "    return np.tanh(x)\n",
    "\n",
    "# Sample sizes\n",
    "input_size = 3\n",
    "hidden_size = 4\n",
    "\n",
    "# Sample input & previous states\n",
    "x_t = np.random.randn(input_size, 1)\n",
    "h_prev = np.zeros((hidden_size, 1))\n",
    "c_prev = np.zeros((hidden_size, 1))"
   ]
  },
  {
   "cell_type": "code",
   "execution_count": 10,
   "id": "a02a2702",
   "metadata": {},
   "outputs": [
    {
     "data": {
      "text/plain": [
       "array([[-0.07923971],\n",
       "       [-1.19530438],\n",
       "       [-1.79888909]])"
      ]
     },
     "execution_count": 10,
     "metadata": {},
     "output_type": "execute_result"
    }
   ],
   "source": [
    "x_t"
   ]
  },
  {
   "cell_type": "code",
   "execution_count": 11,
   "id": "793ea814",
   "metadata": {},
   "outputs": [
    {
     "data": {
      "text/plain": [
       "array([[0.],\n",
       "       [0.],\n",
       "       [0.],\n",
       "       [0.]])"
      ]
     },
     "execution_count": 11,
     "metadata": {},
     "output_type": "execute_result"
    }
   ],
   "source": [
    "h_prev"
   ]
  },
  {
   "cell_type": "code",
   "execution_count": 12,
   "id": "1a413333",
   "metadata": {},
   "outputs": [
    {
     "data": {
      "text/plain": [
       "array([[0.],\n",
       "       [0.],\n",
       "       [0.],\n",
       "       [0.]])"
      ]
     },
     "execution_count": 12,
     "metadata": {},
     "output_type": "execute_result"
    }
   ],
   "source": [
    "c_prev"
   ]
  },
  {
   "cell_type": "code",
   "execution_count": 13,
   "id": "c59a2e06",
   "metadata": {},
   "outputs": [],
   "source": [
    "# Random weights & biases for gates\n",
    "W_f = np.random.randn(hidden_size, hidden_size + input_size)  # Forget gate\n",
    "b_f = np.random.randn(hidden_size, 1)\n",
    "\n",
    "W_i = np.random.randn(hidden_size, hidden_size + input_size)  # Input gate\n",
    "b_i = np.random.randn(hidden_size, 1)\n",
    "\n",
    "W_c = np.random.randn(hidden_size, hidden_size + input_size)  # Candidate\n",
    "b_c = np.random.randn(hidden_size, 1)\n",
    "\n",
    "W_o = np.random.randn(hidden_size, hidden_size + input_size)  # Output gate\n",
    "b_o = np.random.randn(hidden_size, 1)"
   ]
  },
  {
   "cell_type": "code",
   "execution_count": 17,
   "id": "1a6d4f58",
   "metadata": {},
   "outputs": [
    {
     "data": {
      "text/plain": [
       "array([[ 0.40781287, -1.66106141, -1.07706947,  0.71863997,  1.93791429,\n",
       "        -2.03524573, -0.87395016],\n",
       "       [ 0.05225409,  1.42411813,  0.23738836, -0.42652066,  1.16506385,\n",
       "        -0.66698459, -0.502575  ],\n",
       "       [ 0.67950041, -0.09260948,  1.03482443,  0.49144372,  1.28755562,\n",
       "        -0.70997539,  2.16111943],\n",
       "       [ 0.8942961 ,  0.56452645,  0.63415747,  2.2057057 ,  0.65750814,\n",
       "         1.32760599, -0.35768907]])"
      ]
     },
     "execution_count": 17,
     "metadata": {},
     "output_type": "execute_result"
    }
   ],
   "source": [
    "W_f"
   ]
  },
  {
   "cell_type": "code",
   "execution_count": 5,
   "id": "8e477224",
   "metadata": {},
   "outputs": [
    {
     "name": "stdout",
     "output_type": "stream",
     "text": [
      "Forget gate f_t:\n",
      " [[0.74156991]\n",
      " [0.54384824]\n",
      " [0.63753161]\n",
      " [0.54837901]]\n",
      "Input gate i_t:\n",
      " [[0.87839026]\n",
      " [0.55294731]\n",
      " [0.3882278 ]\n",
      " [0.37801303]]\n",
      "Candidate memory c~:\n",
      " [[-0.6010713 ]\n",
      " [ 0.27580447]\n",
      " [ 0.99186518]\n",
      " [-0.68085729]]\n",
      "New cell state c_t:\n",
      " [[-0.52797517]\n",
      " [ 0.15250534]\n",
      " [ 0.38506963]\n",
      " [-0.25737293]]\n",
      "Output gate o_t:\n",
      " [[0.2681797 ]\n",
      " [0.71980458]\n",
      " [0.294417  ]\n",
      " [0.28046168]]\n",
      "New hidden state h_t:\n",
      " [[-0.12975386]\n",
      " [ 0.10893085]\n",
      " [ 0.10808108]\n",
      " [-0.07063055]]\n"
     ]
    }
   ],
   "source": [
    "import numpy as np\n",
    "\n",
    "def sigmoid(x):\n",
    "    return 1 / (1 + np.exp(-x))\n",
    "\n",
    "def tanh(x):\n",
    "    return np.tanh(x)\n",
    "\n",
    "# Sample sizes\n",
    "input_size = 3\n",
    "hidden_size = 4\n",
    "\n",
    "# Sample input & previous states\n",
    "x_t = np.random.randn(input_size, 1)\n",
    "h_prev = np.zeros((hidden_size, 1))\n",
    "c_prev = np.zeros((hidden_size, 1))\n",
    "\n",
    "# Random weights & biases for gates\n",
    "W_f = np.random.randn(hidden_size, hidden_size + input_size)  # Forget gate\n",
    "b_f = np.random.randn(hidden_size, 1)\n",
    "\n",
    "W_i = np.random.randn(hidden_size, hidden_size + input_size)  # Input gate\n",
    "b_i = np.random.randn(hidden_size, 1)\n",
    "\n",
    "W_c = np.random.randn(hidden_size, hidden_size + input_size)  # Candidate\n",
    "b_c = np.random.randn(hidden_size, 1)\n",
    "\n",
    "W_o = np.random.randn(hidden_size, hidden_size + input_size)  # Output gate\n",
    "b_o = np.random.randn(hidden_size, 1)\n",
    "\n",
    "# Concatenate input & previous hidden state\n",
    "concat = np.vstack((h_prev, x_t))\n",
    "\n",
    "# 1️⃣ Forget gate — what to remove\n",
    "f_t = sigmoid(np.dot(W_f, concat) + b_f)\n",
    "\n",
    "# 2️⃣ Input gate — what to write\n",
    "i_t = sigmoid(np.dot(W_i, concat) + b_i)\n",
    "\n",
    "# Candidate memory — possible new content\n",
    "c_tilde = tanh(np.dot(W_c, concat) + b_c)\n",
    "\n",
    "# 3️⃣ Update cell state\n",
    "c_t = f_t * c_prev + i_t * c_tilde\n",
    "\n",
    "# 4️⃣ Output gate — what to output\n",
    "o_t = sigmoid(np.dot(W_o, concat) + b_o)\n",
    "\n",
    "# Hidden state\n",
    "h_t = o_t * tanh(c_t)\n",
    "\n",
    "print(\"Forget gate f_t:\\n\", f_t)\n",
    "print(\"Input gate i_t:\\n\", i_t)\n",
    "print(\"Candidate memory c~:\\n\", c_tilde)\n",
    "print(\"New cell state c_t:\\n\", c_t)\n",
    "print(\"Output gate o_t:\\n\", o_t)\n",
    "print(\"New hidden state h_t:\\n\", h_t)"
   ]
  }
 ],
 "metadata": {
  "kernelspec": {
   "display_name": "Python 3",
   "language": "python",
   "name": "python3"
  },
  "language_info": {
   "codemirror_mode": {
    "name": "ipython",
    "version": 3
   },
   "file_extension": ".py",
   "mimetype": "text/x-python",
   "name": "python",
   "nbconvert_exporter": "python",
   "pygments_lexer": "ipython3",
   "version": "3.11.0"
  }
 },
 "nbformat": 4,
 "nbformat_minor": 5
}
